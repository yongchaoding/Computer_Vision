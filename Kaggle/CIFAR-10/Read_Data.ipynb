{
 "cells": [
  {
   "cell_type": "code",
   "execution_count": null,
   "metadata": {},
   "outputs": [],
   "source": [
    "import numpy as np\n",
    "import matplotlib.image as mpimg\n",
    "import matplotlib.pyplot as plt\n",
    "import pandas as pd\n",
    "from sklearn import preprocessing\n",
    "import os\n",
    "# Path = '../../../Data/'\n",
    "# Data = pd.read_csv('CIFAR_10.csv')"
   ]
  },
  {
   "cell_type": "code",
   "execution_count": null,
   "metadata": {},
   "outputs": [],
   "source": [
    "# Versobe_1 = True\n",
    "\n",
    "# Image_Data = []\n",
    "# Num_Files = 0\n",
    "# for root, dirs, files in os.walk(Path+'train/'):\n",
    "#     for each in files:\n",
    "#         Num_Files += 1\n",
    "#         img = mpimg.imread(Path+'train/'+each).transpose((2,1,0))\n",
    "#         img = img.flatten()\n",
    "#         img_id = np.array(int(each[:-4]))\n",
    "#         Image_Data.append(np.hstack((img_id, img)))\n",
    "#         if Versobe_1:\n",
    "#             print(img_id)\n",
    "#             print(img.shape)\n",
    "#             print(each)\n",
    "#             break\n",
    "# ImageData = np.array(Image_Data)\n",
    "# print(ImageData.shape)"
   ]
  },
  {
   "cell_type": "code",
   "execution_count": null,
   "metadata": {},
   "outputs": [],
   "source": [
    "def Image_Show(Data, Label_inverse):\n",
    "    # 转成imshow需要的格式\n",
    "    Show_Image = Data[1:].reshape((3, 32, 32)).transpose((1,2,0))\n",
    "    plt.imshow(Show_Image)\n",
    "    # Label\n",
    "    print(Data[0])\n",
    "    plt.title(Label_inverse[int(Data[0])])\n",
    "    plt.show()\n",
    "    \n",
    "#Image_Show(Data[15], Label_inverse)\n",
    "#Image_Show(ImageData[0])"
   ]
  },
  {
   "cell_type": "code",
   "execution_count": null,
   "metadata": {},
   "outputs": [],
   "source": [
    "# # 读入csv数据，此中包含图像信息及其Label信息\n",
    "# # ImageData = np.loadtxt(open('CIFAR_10.csv','rb'), delimiter=',', skiprows=0)\n",
    "\n",
    "# ## 数组数据排列的测试程序\n",
    "# x = np.array([[1,3], [2,3], [0,5]])\n",
    "# print(x.shape)\n",
    "# print(x)\n",
    "# y = np.argsort(x[:,0])\n",
    "# print(x[y])\n",
    "\n",
    "# print('Start sort')\n",
    "# print(ImageData.shape)\n",
    "# # 按array的第一列进行排序\n",
    "# ImageData_arg = np.argsort(ImageData[:,0])\n",
    "# ImageData = ImageData[ImageData_arg]\n",
    "# # 测试与实际的第一幅图像是否一致\n",
    "# Image_Show(ImageData[0])\n",
    "# # print(ImageData[ImageData_arg])"
   ]
  },
  {
   "cell_type": "code",
   "execution_count": null,
   "metadata": {},
   "outputs": [],
   "source": [
    "# Image_Show(ImageData[2])"
   ]
  },
  {
   "cell_type": "code",
   "execution_count": null,
   "metadata": {},
   "outputs": [],
   "source": [
    "# 将array保存为csv文件，利用numpy的API\n",
    "#np.savetxt(Path+'CIFAR_10.csv', ImageData, delimiter = ',') \n",
    "\n",
    "# 正常文件可以直接用numpy的API进行读取\n",
    "# ImageLabel = np.loadtxt(open(Path+'trainLabels.csv','rb'), delimiter=',', skiprows=0)\n",
    "\n",
    "# 由于存在标志，因此需要借助padans来进行csv文件的读取\n",
    "# ImageLabel = pd.read_csv(Path+'trainLabels.csv')"
   ]
  },
  {
   "cell_type": "markdown",
   "metadata": {},
   "source": [
    "### LabelEncoder 与 One-Hot 功能测试"
   ]
  },
  {
   "cell_type": "code",
   "execution_count": null,
   "metadata": {},
   "outputs": [],
   "source": [
    "# # print(ImageLabel)\n",
    "# label_id = np.array(ImageLabel['id'])\n",
    "# label = np.array(ImageLabel['label'])\n",
    "# print(label)\n",
    "\n",
    "# # 将描述型数据变换为数字表示\n",
    "# encoder = preprocessing.LabelEncoder()\n",
    "# interger_label = encoder.fit_transform(label).reshape(-1, 1)\n",
    "# print(interger_label)\n",
    "# one_hot = preprocessing.OneHotEncoder(sparse=False)\n",
    "# data = one_hot.fit_transform(interger_label)\n",
    "# print(data)"
   ]
  },
  {
   "cell_type": "code",
   "execution_count": null,
   "metadata": {},
   "outputs": [],
   "source": [
    "# data = ['cold', 'cold', 'warm', 'cold', 'hot', 'hot', 'warm', 'cold', 'warm', 'hot']\n",
    "# values = np.array(data)\n",
    "# print(values)\n",
    "# # integer encode\n",
    "# label_encoder = preprocessing.LabelEncoder()\n",
    "# integer_encoded = label_encoder.fit_transform(values).reshape(len(integer_encoded), 1)\n",
    "# print(integer_encoded)\n",
    "# # binary encode\n",
    "# onehot_encoder = preprocessing.OneHotEncoder(sparse=False)\n",
    "# # integer_encoded = integer_encoded\n",
    "# onehot_encoded = onehot_encoder.fit_transform(integer_encoded)\n",
    "# print(onehot_encoded)"
   ]
  },
  {
   "cell_type": "markdown",
   "metadata": {},
   "source": [
    "### 此处进行数组的拼接"
   ]
  },
  {
   "cell_type": "code",
   "execution_count": null,
   "metadata": {},
   "outputs": [],
   "source": [
    "# print(label.shape)\n",
    "# print(ImageData.shape)"
   ]
  },
  {
   "cell_type": "code",
   "execution_count": null,
   "metadata": {},
   "outputs": [],
   "source": [
    "# 简易二维数组拼接处理\n",
    "x = np.array([[1,2],[3,4],[5,6]])\n",
    "y = np.array([1, 2, 3])\n",
    "print(x.shape)\n",
    "print(y.shape)\n",
    "# 二维数组切片测试\n",
    "z = x[:,1:]\n",
    "c = np.concatenate((y.reshape(1, -1).T, x), axis = 1)\n",
    "print(c)\n",
    "print(z)\n",
    "np.random.shuffle(c)\n",
    "print(c)"
   ]
  },
  {
   "cell_type": "code",
   "execution_count": null,
   "metadata": {},
   "outputs": [],
   "source": [
    "# ImageData_1 = np.zeros((50, 3073))\n",
    "# print(ImageData_1.shape)\n",
    "# ImageData_1 = ImageData_1[:,1:]\n",
    "# print(ImageData_1.shape)\n",
    "# Train_CIFAR = np.concatenate((label.reshape(1, -1).T, ImageData), axis =1)\n",
    "# print(Train_CIFAR.shape)\n",
    "# print(Train_CIFAR)"
   ]
  },
  {
   "cell_type": "markdown",
   "metadata": {},
   "source": [
    "## 下面是基于上述测试的，对测试数据的读取及其保存"
   ]
  },
  {
   "cell_type": "code",
   "execution_count": null,
   "metadata": {},
   "outputs": [],
   "source": [
    "# 一些全局变量\n",
    "Path_Image = '../../../Data/train_1/'\n",
    "Path_Label = '../../../Data/'\n",
    "File_Name = 'Train_CIFAR10.csv'"
   ]
  },
  {
   "cell_type": "markdown",
   "metadata": {},
   "source": [
    "### 载入图像，输出图像数组"
   ]
  },
  {
   "cell_type": "code",
   "execution_count": null,
   "metadata": {},
   "outputs": [],
   "source": [
    "def ImageDataLoad(path):\n",
    "    Image_Data = []\n",
    "    for root, dirs, files in os.walk(path):\n",
    "        for each in files:\n",
    "            #print(root)\n",
    "            #print(dirs)\n",
    "            #print(each)\n",
    "            img = mpimg.imread(path+each).transpose((2,1,0))\n",
    "            # 将数据变成一维数组的形式\n",
    "            img = img.flatten()\n",
    "            # 读取图像的id\n",
    "            img_id = np.array(int(each[:-4]))\n",
    "            # 数据的拼接\n",
    "            Image_Data.append(np.hstack((img_id, img)))\n",
    "    ImageData = np.array(Image_Data)\n",
    "    ImageData_arg = np.argsort(ImageData[:,0])\n",
    "    Data = ImageData[ImageData_arg]\n",
    "    return Data"
   ]
  },
  {
   "cell_type": "markdown",
   "metadata": {},
   "source": [
    "### 将图像与标记合并，并且输出结果"
   ]
  },
  {
   "cell_type": "code",
   "execution_count": null,
   "metadata": {},
   "outputs": [],
   "source": [
    "def MixImageAndLabel(path_Image, path_Label):\n",
    "    Image = ImageDataLoad(path_Image)\n",
    "    Label = pd.read_csv(path_Label+'trainLabels_1.csv')\n",
    "    ImageLabel = np.array(Label['label']).reshape(-1, 1)\n",
    "    print(ImageLabel)\n",
    "    # Label Encoder\n",
    "    encoder = preprocessing.LabelEncoder()\n",
    "    ImageLabel = encoder.fit_transform(ImageLabel)\n",
    "    Label_inverse = np.array(list(encoder.classes_))\n",
    "    # one_hot = preprocessing.OneHotEncoder(sparse=False)\n",
    "    # One_hot_Label = one_hot.fit_transform(interger_label)\n",
    "    ImageData = Image[:,1:]\n",
    "    # print(ImageData.shape)\n",
    "    # print(ImageLabel.shape)\n",
    "    Data = np.concatenate((ImageLabel.reshape(1, -1).T, ImageData), axis = 1)\n",
    "    # print(Data.shape)\n",
    "    return Data,Label_inverse\n",
    "\n",
    "MixImageAndLabel(Path_Image, Path_Label)"
   ]
  },
  {
   "cell_type": "markdown",
   "metadata": {},
   "source": [
    "### 保存标记与图像数据至csv文件"
   ]
  },
  {
   "cell_type": "code",
   "execution_count": null,
   "metadata": {},
   "outputs": [],
   "source": [
    "def SaveData2CSV(Data, file_name,path_Label):\n",
    "    # Data = MixImageAndLabel(path_Image, path_Label)\n",
    "    np.savetxt(path_Label+file_name, Data, delimiter = ',')"
   ]
  },
  {
   "cell_type": "markdown",
   "metadata": {},
   "source": [
    "### 从csv文件中乱序的读取数据"
   ]
  },
  {
   "cell_type": "code",
   "execution_count": null,
   "metadata": {},
   "outputs": [],
   "source": [
    "def ReadData(file_name, path):\n",
    "    Data = np.loadtxt(open(path+file_name,'rb'), delimiter=',', skiprows=0)\n",
    "    np.random.shuffle(Data)\n",
    "    return Data"
   ]
  },
  {
   "cell_type": "markdown",
   "metadata": {},
   "source": [
    "### 数据读取函数功能测试"
   ]
  },
  {
   "cell_type": "code",
   "execution_count": null,
   "metadata": {},
   "outputs": [],
   "source": [
    "Data,Label_inverse  = MixImageAndLabel(Path_Image, Path_Label)"
   ]
  },
  {
   "cell_type": "code",
   "execution_count": null,
   "metadata": {},
   "outputs": [],
   "source": [
    "SaveData2CSV(Data, File_Name, Path_Label)"
   ]
  },
  {
   "cell_type": "code",
   "execution_count": null,
   "metadata": {},
   "outputs": [],
   "source": [
    "# ImageData = ReadData(File_Name, Path_Label)\n",
    "# Image_Show(ImageData[3], Label_inverse)\n",
    "#print(Label_inverse)"
   ]
  },
  {
   "cell_type": "code",
   "execution_count": null,
   "metadata": {},
   "outputs": [],
   "source": [
    "# Data = ImageDataLoad(Path_Image)"
   ]
  },
  {
   "cell_type": "code",
   "execution_count": null,
   "metadata": {},
   "outputs": [],
   "source": [
    "# print(Data.shape)\n",
    "# print(Data[1])"
   ]
  },
  {
   "cell_type": "code",
   "execution_count": null,
   "metadata": {},
   "outputs": [],
   "source": [
    "# ImageData_arg = np.argsort(Data[:,0])\n",
    "# ImageData = Data[ImageData_arg]"
   ]
  },
  {
   "cell_type": "code",
   "execution_count": null,
   "metadata": {},
   "outputs": [],
   "source": [
    "# print(ImageData[0])\n",
    "# Image_Show(Data[2], Label_inverse)"
   ]
  },
  {
   "cell_type": "code",
   "execution_count": null,
   "metadata": {},
   "outputs": [],
   "source": []
  }
 ],
 "metadata": {
  "kernelspec": {
   "display_name": "Python 3",
   "language": "python",
   "name": "python3"
  },
  "language_info": {
   "codemirror_mode": {
    "name": "ipython",
    "version": 3
   },
   "file_extension": ".py",
   "mimetype": "text/x-python",
   "name": "python",
   "nbconvert_exporter": "python",
   "pygments_lexer": "ipython3",
   "version": "3.6.3"
  }
 },
 "nbformat": 4,
 "nbformat_minor": 2
}
