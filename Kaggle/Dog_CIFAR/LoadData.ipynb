{
 "cells": [
  {
   "cell_type": "code",
   "execution_count": 1,
   "metadata": {},
   "outputs": [],
   "source": [
    "FileLabelName = '../../../Data/Dog/labels.csv'\n",
    "FileImageName = '../../../Data/Dog/train/'\n",
    "import zipfile\n",
    "\n",
    "# z = zipfile.ZipFile(FileLabelName, 'r') # 这里的第二个参数用r表示是读取zip文件，w是创建一个zip文件\n",
    "\n",
    "# for f in z.namelist():\n",
    "#     bytes = z.read(f)"
   ]
  },
  {
   "cell_type": "code",
   "execution_count": 2,
   "metadata": {},
   "outputs": [],
   "source": [
    "DEBUG = False\n",
    "Size = 224"
   ]
  },
  {
   "cell_type": "code",
   "execution_count": 3,
   "metadata": {},
   "outputs": [],
   "source": [
    "import pandas as pd\n",
    "import os\n",
    "import numpy as np\n",
    "import matplotlib.image as mpimg\n",
    "import matplotlib.pyplot as plt\n",
    "from sklearn import preprocessing\n",
    "from scipy.misc import imresize\n",
    "from sklearn.utils import shuffle\n",
    "\n",
    "import sys\n",
    "sys.path.append('../CIFAR-10/')\n",
    "import Net_Train"
   ]
  },
  {
   "cell_type": "code",
   "execution_count": 4,
   "metadata": {},
   "outputs": [
    {
     "name": "stdout",
     "output_type": "stream",
     "text": [
      "10000\n"
     ]
    }
   ],
   "source": [
    "Label = pd.read_csv(FileLabelName)\n",
    "#Label = shuffle(Label)\n",
    "print(len(Label))\n",
    "Label = Label.sample(frac=1).reset_index(drop = True)\n",
    "#print(Label['id'][17], Label['breed'][17])"
   ]
  },
  {
   "cell_type": "code",
   "execution_count": 5,
   "metadata": {},
   "outputs": [
    {
     "name": "stderr",
     "output_type": "stream",
     "text": [
      "/home/ubuntu/Yongchao/yongchao/lib/python3.6/site-packages/ipykernel_launcher.py:9: DeprecationWarning: `imresize` is deprecated!\n",
      "`imresize` is deprecated in SciPy 1.0.0, and will be removed in 1.2.0.\n",
      "Use ``skimage.transform.resize`` instead.\n",
      "  if __name__ == '__main__':\n",
      "/home/ubuntu/Yongchao/yongchao/lib/python3.6/site-packages/scipy/misc/pilutil.py:554: DeprecationWarning: `toimage` is deprecated!\n",
      "`toimage` is deprecated in SciPy 1.0.0, and will be removed in 1.2.0.\n",
      "Use Pillow's ``Image.fromarray`` directly instead.\n",
      "  im = toimage(arr, mode=mode)\n",
      "/home/ubuntu/Yongchao/yongchao/lib/python3.6/site-packages/scipy/misc/pilutil.py:380: DeprecationWarning: `bytescale` is deprecated!\n",
      "`bytescale` is deprecated in SciPy 1.0.0, and will be removed in 1.2.0.\n",
      "  bytedata = bytescale(data, high=high, low=low, cmin=cmin, cmax=cmax)\n",
      "/home/ubuntu/Yongchao/yongchao/lib/python3.6/site-packages/scipy/misc/pilutil.py:565: DeprecationWarning: `fromimage` is deprecated!\n",
      "`fromimage` is deprecated in SciPy 1.0.0. and will be removed in 1.2.0.\n",
      "Use ``np.asarray(im)`` instead.\n",
      "  return fromimage(imnew)\n"
     ]
    },
    {
     "name": "stdout",
     "output_type": "stream",
     "text": [
      "(10000, 150528)\n"
     ]
    }
   ],
   "source": [
    "i = 0\n",
    "Image_Data = []\n",
    "for root, dirs, files in os.walk(FileImageName):\n",
    "    # print(root)\n",
    "    for file in FileImageName+Label['id']:\n",
    "        #print(file)\n",
    "        img = mpimg.imread(file + '.jpg')\n",
    "        #print(img.shape)\n",
    "        img = imresize(img, (Size,Size))\n",
    "        img = img.transpose((2,1,0))\n",
    "        #print(img.shape)\n",
    "        img = img.flatten()\n",
    "#         print(img.shape)\n",
    "#         img = img.reshape((Size, Size, 3))\n",
    "#         plt.imshow(img)\n",
    "#         plt.title(Label['breed'][i])\n",
    "#         plt.show()\n",
    "        Image_Data.append(img)\n",
    "        i += 1\n",
    "        if DEBUG:\n",
    "            if i>17:\n",
    "                break\n",
    "#print(Image_Data)\n",
    "Image_Data = np.array(Image_Data)\n",
    "print(Image_Data.shape)"
   ]
  },
  {
   "cell_type": "code",
   "execution_count": 6,
   "metadata": {},
   "outputs": [
    {
     "name": "stdout",
     "output_type": "stream",
     "text": [
      "120\n",
      "(1, 10000)\n",
      "(10000, 150529)\n"
     ]
    }
   ],
   "source": [
    "ImageLabel = np.array(Label['breed']) #.reshape(-1, 1)\n",
    "#print(ImageLabel)\n",
    "encoder = preprocessing.LabelEncoder()\n",
    "ImageLabel = encoder.fit_transform(ImageLabel)\n",
    "ImageLabel = ImageLabel.reshape((1,-1))\n",
    "Label_inverse = np.array(list(encoder.classes_))\n",
    "Classes = len(Label_inverse)\n",
    "print(Classes)\n",
    "print(ImageLabel.shape)\n",
    "Data = np.concatenate((ImageLabel.T, Image_Data), axis=1)\n",
    "print(Data.shape)"
   ]
  },
  {
   "cell_type": "code",
   "execution_count": 7,
   "metadata": {},
   "outputs": [
    {
     "name": "stdout",
     "output_type": "stream",
     "text": [
      "9000 1000\n"
     ]
    }
   ],
   "source": [
    "Train_data, Test_data = Net_Train.loadTrainTestData(Data, 200, Train_ratio=0.9, origin_size=224)#, resize=224)"
   ]
  },
  {
   "cell_type": "code",
   "execution_count": null,
   "metadata": {},
   "outputs": [],
   "source": [
    "print(Train_data.shape, Test_data.shape)"
   ]
  },
  {
   "cell_type": "code",
   "execution_count": null,
   "metadata": {},
   "outputs": [],
   "source": [
    "from mxnet.gluon.model_zoo import vision\n",
    "from mxnet import gluon\n",
    "from mxnet import init\n",
    "import mxnet\n",
    "AlexNet = vision.resnet18_v2(pretrained=True)\n",
    "print(AlexNet)\n",
    "# AlexNet.initialize(init=init.Xavier(), ctx = mxnet.gpu())\n",
    "Fine_Tuning = vision.resnet18_v2(classes = 120)\n",
    "Fine_Tuning.features = AlexNet.features\n",
    "Fine_Tuning.classifier.initialize(init=init.Xavier())\n",
    "Fine_Tuning.collect_params().reset_ctx(mxnet.gpu())\n",
    "\n",
    "loss = gluon.loss.SoftmaxCrossEntropyLoss()\n",
    "Trainer = gluon.Trainer(Fine_Tuning.collect_params(), 'sgd', {'learning_rate': 1})"
   ]
  },
  {
   "cell_type": "code",
   "execution_count": null,
   "metadata": {},
   "outputs": [],
   "source": [
    "Net_Train.train(Train_data, Test_data, Fine_Tuning, 5, loss, Trainer, 224, ctx=mxnet.gpu(), Test_Flag=True, lr = 1)"
   ]
  },
  {
   "cell_type": "markdown",
   "metadata": {},
   "source": [
    "## 错误消息导致kernel暂停\n",
    "1. GPU上数据太多，导致GPU内存爆满，直接退出"
   ]
  },
  {
   "cell_type": "code",
   "execution_count": null,
   "metadata": {},
   "outputs": [],
   "source": [
    "#Net = \"Fine_tuning_resnet18.params\"\n",
    "#Fine_Tuning.collect_params().save(Net)"
   ]
  },
  {
   "cell_type": "code",
   "execution_count": null,
   "metadata": {},
   "outputs": [],
   "source": [
    "\n",
    "#print(Fine_Tuning.keys())"
   ]
  },
  {
   "cell_type": "code",
   "execution_count": 1,
   "metadata": {},
   "outputs": [
    {
     "name": "stdout",
     "output_type": "stream",
     "text": [
      "\n",
      "[[ 1.  1.  1. ...,  1.  1.  1.]\n",
      " [ 1.  1.  1. ...,  1.  1.  1.]\n",
      " [ 1.  1.  1. ...,  1.  1.  1.]\n",
      " ..., \n",
      " [ 1.  1.  1. ...,  1.  1.  1.]\n",
      " [ 1.  1.  1. ...,  1.  1.  1.]\n",
      " [ 1.  1.  1. ...,  1.  1.  1.]]\n",
      "<NDArray 10000x10000 @gpu(0)>\n"
     ]
    }
   ],
   "source": [
    "from mxnet import nd\n",
    "import mxnet\n",
    "Train_data = nd.ones(shape=(10000,10000), ctx= mxnet.gpu())\n",
    "print(Train_data)"
   ]
  },
  {
   "cell_type": "code",
   "execution_count": 3,
   "metadata": {},
   "outputs": [
    {
     "data": {
      "text/plain": [
       "\n",
       "[[ 1.  1.  1. ...,  1.  1.  1.]\n",
       " [ 1.  1.  1. ...,  1.  1.  1.]\n",
       " [ 1.  1.  1. ...,  1.  1.  1.]\n",
       " ..., \n",
       " [ 1.  1.  1. ...,  1.  1.  1.]\n",
       " [ 1.  1.  1. ...,  1.  1.  1.]\n",
       " [ 1.  1.  1. ...,  1.  1.  1.]]\n",
       "<NDArray 10000x10000 @cpu(0)>"
      ]
     },
     "execution_count": 3,
     "metadata": {},
     "output_type": "execute_result"
    }
   ],
   "source": [
    "Train_data.as_in_context(mxnet.cpu())\n",
    "#del Train_data\n",
    "#Train_data = Train_data.asnumpy()"
   ]
  },
  {
   "cell_type": "code",
   "execution_count": null,
   "metadata": {},
   "outputs": [],
   "source": [
    "print(Train_data)"
   ]
  },
  {
   "cell_type": "code",
   "execution_count": null,
   "metadata": {},
   "outputs": [],
   "source": []
  }
 ],
 "metadata": {
  "kernelspec": {
   "display_name": "Python 3",
   "language": "python",
   "name": "python3"
  },
  "language_info": {
   "codemirror_mode": {
    "name": "ipython",
    "version": 3
   },
   "file_extension": ".py",
   "mimetype": "text/x-python",
   "name": "python",
   "nbconvert_exporter": "python",
   "pygments_lexer": "ipython3",
   "version": "3.6.3"
  }
 },
 "nbformat": 4,
 "nbformat_minor": 2
}
