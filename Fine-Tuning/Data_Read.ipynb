{
 "cells": [
  {
   "cell_type": "code",
   "execution_count": null,
   "metadata": {},
   "outputs": [],
   "source": [
    "from mxnet import gluon\n",
    "from mxnet import nd\n",
    "from mxnet import image\n",
    "\n",
    "train_augs = [\n",
    "    image.HorizontalFlipAug(0.5),      # 横向变换\n",
    "    image.RandomCropAug((224, 224))    # 变换图像尺寸\n",
    "]\n",
    "\n",
    "test_augs = [\n",
    "    image.RandomCropAug((224, 224))\n",
    "]\n",
    "\n",
    "# data 图像数据， label 图像标识， augs 图像增广内容\n",
    "def transform(data, label, augs):\n",
    "    data = data.astype('float32')\n",
    "    for aug in augs:\n",
    "        data = aug(data)\n",
    "    data = nd.transpose(data, (2, 0, 1))  # 通道的变换，最后一通道前置\n",
    "    return data, nd.array([label]).asscalar().astype('float32')"
   ]
  },
  {
   "cell_type": "code",
   "execution_count": null,
   "metadata": {},
   "outputs": [],
   "source": [
    "import sys\n",
    "sys.path.append('../../gluon-tutorials-zh')\n",
    "import utils\n",
    "\n",
    "data_dir = '../../Data'\n",
    "train_imgs = gluon.data.vision.ImageFolderDataset(data_dir+'/hotdog/train', transform=lambda X, y:transform(X, y, train_augs))\n",
    "test_imgs = gluon.data.vision.ImageFolderDataset(data_dir+'/hotdog/test', transform=lambda X, y:transform(X, y, test_augs))\n",
    "#print(train_imgs.shape)\n",
    "for Z in train_imgs:\n",
    "    print(Z)\n",
    "    break\n",
    "\n",
    "data = gluon.data.DataLoader(train_imgs, 32, shuffle=True)\n",
    "#print(data)\n",
    "# 数据的显示\n",
    "for X, Y in data:\n",
    "    # clip函数作用为取0为最小，255为最大，并且被255所除，归一为0-1\n",
    "    X = X.transpose((0,2,3,1)).clip(0, 255)/255\n",
    "    # utils.show_images(X, 4, 8)\n",
    "    # print(X[0][0])\n",
    "    # print(X.shape)\n",
    "    # print(Y)\n",
    "    break\n",
    "\n"
   ]
  },
  {
   "cell_type": "code",
   "execution_count": null,
   "metadata": {},
   "outputs": [],
   "source": [
    "from mxnet.gluon.model_zoo import vision as models\n",
    "pretrained_net = models.resnet18_v2(pretrained=True)\n",
    "# pretrained_net = models.resnet18_v2(pretrained=True)"
   ]
  },
  {
   "cell_type": "code",
   "execution_count": null,
   "metadata": {},
   "outputs": [],
   "source": [
    "print(pretrained_net.classifier)\n",
    "print(pretrained_net.classifier[4].weight.data())  # 全连接层"
   ]
  },
  {
   "cell_type": "code",
   "execution_count": null,
   "metadata": {},
   "outputs": [],
   "source": [
    "from mxnet import init\n",
    "\n",
    "# classes为分类的类别种类\n",
    "finetune_net = models.resnet18_v2(classes=2)\n",
    "# print(finetune_net)\n",
    "finetune_net.features = pretrained_net.features\n",
    "finetune_net.classifier.initialize(init.Xavier())\n",
    "# print(finetune_net)"
   ]
  },
  {
   "cell_type": "markdown",
   "metadata": {},
   "source": [
    "### 训练函数"
   ]
  },
  {
   "cell_type": "code",
   "execution_count": null,
   "metadata": {},
   "outputs": [],
   "source": [
    "def train(net, ctx, batch_size=64, epochs=10, learning_rate=0.01, wd=0.001):\n",
    "    train_data = gluon.data.DataLoader(train_imgs, batch_size, shuffle=True)\n",
    "    test_data = gluon.data.DataLoader(test_imgs, batch_size)\n",
    "    # print(train_data)\n",
    "    # net在ctx上面\n",
    "    net.collect_params().reset_ctx(ctx)\n",
    "    net.hybridize()\n",
    "    loss = gluon.loss.SoftmaxCrossEntropyLoss()\n",
    "    \n",
    "    # train\n",
    "    trainer = gluon.Trainer(net.collect_params(), 'sgd', {'learning_rate': learning_rate})\n",
    "    utils.train(train_data, test_data, net, loss, trainer, ctx, epochs)"
   ]
  },
  {
   "cell_type": "code",
   "execution_count": null,
   "metadata": {},
   "outputs": [],
   "source": [
    "ctx = utils.try_gpu()\n",
    "train(finetune_net, ctx)"
   ]
  },
  {
   "cell_type": "code",
   "execution_count": null,
   "metadata": {},
   "outputs": [],
   "source": [
    "scratch_net = models.resnet18_v2(classes=2)\n",
    "scratch_net.initialize(init=init.Xavier())\n",
    "train(scratch_net, ctx)"
   ]
  },
  {
   "cell_type": "code",
   "execution_count": null,
   "metadata": {},
   "outputs": [],
   "source": [
    "import matplotlib.pyplot as plt\n",
    "\n",
    "def classify_hotdog(net, fname, ctx):\n",
    "    with open(fname, 'rb') as f:\n",
    "        img = image.imdecode(f.read())\n",
    "        #print(img)\n",
    "    data, _ = transform(img, -1, test_augs)\n",
    "    data_cal = data.expand_dims(axis=0)\n",
    "    out = net(data_cal.as_in_context(ctx))\n",
    "    out = nd.SoftmaxActivation(out)\n",
    "    pred = int(nd.argmax(out, axis=1).asscalar())\n",
    "    prob = out[0][pred].asscalar()\n",
    "    print(prob)\n",
    "    label = train_imgs.synsets\n",
    "    print(label[pred])\n",
    "    data = nd.transpose(data, (1,2,0)).clip(0, 255)/255\n",
    "    data = data.asnumpy()\n",
    "    plt.imshow(data)\n",
    "    plt.show()\n",
    "    "
   ]
  },
  {
   "cell_type": "code",
   "execution_count": null,
   "metadata": {},
   "outputs": [],
   "source": [
    "import os\n",
    "print(os.getcwd())\n",
    "\n",
    "classify_hotdog(finetune_net, '../../Data/hotdog/test/not-hotdog/1221.png', ctx)"
   ]
  },
  {
   "cell_type": "code",
   "execution_count": null,
   "metadata": {},
   "outputs": [],
   "source": []
  }
 ],
 "metadata": {
  "kernelspec": {
   "display_name": "Python 3",
   "language": "python",
   "name": "python3"
  },
  "language_info": {
   "codemirror_mode": {
    "name": "ipython",
    "version": 3
   },
   "file_extension": ".py",
   "mimetype": "text/x-python",
   "name": "python",
   "nbconvert_exporter": "python",
   "pygments_lexer": "ipython3",
   "version": "3.6.3"
  }
 },
 "nbformat": 4,
 "nbformat_minor": 2
}
